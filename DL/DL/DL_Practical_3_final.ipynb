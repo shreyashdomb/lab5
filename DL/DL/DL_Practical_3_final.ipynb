{
  "cells": [
    {
      "cell_type": "code",
      "execution_count": 4,
      "metadata": {
        "id": "1BM-7y8GUqgw"
      },
      "outputs": [],
      "source": [
        "import tensorflow as tf\n",
        "import matplotlib.pyplot as plt\n",
        "from tensorflow import keras\n",
        "import numpy as np"
      ]
    },
    {
      "cell_type": "code",
      "execution_count": 5,
      "metadata": {
        "id": "slAhZJQkVLhh",
        "colab": {
          "base_uri": "https://localhost:8080/"
        },
        "outputId": "725508b8-d6b6-44a3-9258-1dbb31149167"
      },
      "outputs": [
        {
          "output_type": "stream",
          "name": "stdout",
          "text": [
            "Downloading data from https://storage.googleapis.com/tensorflow/tf-keras-datasets/train-labels-idx1-ubyte.gz\n",
            "29515/29515 [==============================] - 0s 0us/step\n",
            "Downloading data from https://storage.googleapis.com/tensorflow/tf-keras-datasets/train-images-idx3-ubyte.gz\n",
            "26421880/26421880 [==============================] - 0s 0us/step\n",
            "Downloading data from https://storage.googleapis.com/tensorflow/tf-keras-datasets/t10k-labels-idx1-ubyte.gz\n",
            "5148/5148 [==============================] - 0s 0us/step\n",
            "Downloading data from https://storage.googleapis.com/tensorflow/tf-keras-datasets/t10k-images-idx3-ubyte.gz\n",
            "4422102/4422102 [==============================] - 0s 0us/step\n"
          ]
        }
      ],
      "source": [
        "(x_train, y_train), (x_test, y_test) = keras.datasets.fashion_mnist.load_data()"
      ]
    },
    {
      "cell_type": "code",
      "execution_count": 6,
      "metadata": {
        "colab": {
          "base_uri": "https://localhost:8080/",
          "height": 447
        },
        "id": "fKGlyQEeVOS7",
        "outputId": "f0f8e1e2-de61-4484-9373-7e0eef799b31"
      },
      "outputs": [
        {
          "output_type": "execute_result",
          "data": {
            "text/plain": [
              "<matplotlib.image.AxesImage at 0x7e18d7ed2050>"
            ]
          },
          "metadata": {},
          "execution_count": 6
        },
        {
          "output_type": "display_data",
          "data": {
            "text/plain": [
              "<Figure size 640x480 with 1 Axes>"
            ],
            "image/png": "[encoded data removed]"
          },
          "metadata": {}
        }
      ],
      "source": [
        "plt.imshow(x_train[0],cmap='gray')"
      ]
    },
    {
      "cell_type": "code",
      "execution_count": 7,
      "metadata": {
        "colab": {
          "base_uri": "https://localhost:8080/",
          "height": 447
        },
        "id": "oDIE2h8zVO99",
        "outputId": "cb6461a9-3d83-4124-d102-5954f0071650"
      },
      "outputs": [
        {
          "output_type": "execute_result",
          "data": {
            "text/plain": [
              "<matplotlib.image.AxesImage at 0x7e18d4926ef0>"
            ]
          },
          "metadata": {},
          "execution_count": 7
        },
        {
          "output_type": "display_data",
          "data": {
            "text/plain": [
              "<Figure size 640x480 with 1 Axes>"
            ],
            "image/png": "[encoded data removed]"
          },
          "metadata": {}
        }
      ],
      "source": [
        "plt.imshow(x_train[1],cmap='gray')"
      ]
    },
    {
      "cell_type": "code",
      "execution_count": 8,
      "metadata": {
        "id": "OCorWNYOVRoe"
      },
      "outputs": [],
      "source": [
        "x_train1 = x_train.astype('float32') / 255.0\n",
        "x_test1 = x_test.astype('float32') / 255.0\n",
        "x_train1 = x_train1.reshape(-1, 28, 28, 1)\n",
        "x_test1 = x_test1.reshape(-1, 28, 28, 1)"
      ]
    },
    {
      "cell_type": "code",
      "execution_count": 9,
      "metadata": {
        "colab": {
          "base_uri": "https://localhost:8080/"
        },
        "id": "ZP4qlST1VTiC",
        "outputId": "fa7a5008-f928-4f7c-eb36-cff1674c15d1"
      },
      "outputs": [
        {
          "output_type": "execute_result",
          "data": {
            "text/plain": [
              "(60000, 28, 28, 1)"
            ]
          },
          "metadata": {},
          "execution_count": 9
        }
      ],
      "source": [
        "x_train1.shape"
      ]
    },
    {
      "cell_type": "code",
      "execution_count": 10,
      "metadata": {
        "colab": {
          "base_uri": "https://localhost:8080/"
        },
        "id": "1yj4f6TtVcHh",
        "outputId": "4f5889be-4585-46da-c2e8-0d8719de028b"
      },
      "outputs": [
        {
          "output_type": "execute_result",
          "data": {
            "text/plain": [
              "(10000, 28, 28, 1)"
            ]
          },
          "metadata": {},
          "execution_count": 10
        }
      ],
      "source": [
        "x_test1.shape"
      ]
    },
    {
      "cell_type": "code",
      "execution_count": 11,
      "metadata": {
        "colab": {
          "base_uri": "https://localhost:8080/"
        },
        "id": "Uje9mDu0VdmI",
        "outputId": "cf3b0c24-81da-4ad7-f58f-4cb735d03335"
      },
      "outputs": [
        {
          "output_type": "execute_result",
          "data": {
            "text/plain": [
              "(60000,)"
            ]
          },
          "metadata": {},
          "execution_count": 11
        }
      ],
      "source": [
        "y_train.shape"
      ]
    },
    {
      "cell_type": "code",
      "execution_count": 12,
      "metadata": {
        "colab": {
          "base_uri": "https://localhost:8080/"
        },
        "id": "V7XW2CwmVelG",
        "outputId": "2b3d2503-412c-4677-bbc7-1cab4f11614f"
      },
      "outputs": [
        {
          "output_type": "execute_result",
          "data": {
            "text/plain": [
              "(10000,)"
            ]
          },
          "metadata": {},
          "execution_count": 12
        }
      ],
      "source": [
        "y_test.shape"
      ]
    },
    {
      "cell_type": "code",
      "execution_count": 13,
      "metadata": {
        "colab": {
          "base_uri": "https://localhost:8080/"
        },
        "id": "iXXbHlCeVfrW",
        "outputId": "50e79b9c-4938-46a7-a02d-8ae045e4605d"
      },
      "outputs": [
        {
          "output_type": "stream",
          "name": "stdout",
          "text": [
            "Model: \"sequential\"\n",
            "_________________________________________________________________\n",
            " Layer (type)                Output Shape              Param #   \n",
            "=================================================================\n",
            " conv2d (Conv2D)             (None, 26, 26, 32)        320       \n",
            "                                                                 \n",
            " max_pooling2d (MaxPooling2  (None, 13, 13, 32)        0         \n",
            " D)                                                              \n",
            "                                                                 \n",
            " dropout (Dropout)           (None, 13, 13, 32)        0         \n",
            "                                                                 \n",
            " conv2d_1 (Conv2D)           (None, 11, 11, 64)        18496     \n",
            "                                                                 \n",
            " max_pooling2d_1 (MaxPoolin  (None, 5, 5, 64)          0         \n",
            " g2D)                                                            \n",
            "                                                                 \n",
            " dropout_1 (Dropout)         (None, 5, 5, 64)          0         \n",
            "                                                                 \n",
            " conv2d_2 (Conv2D)           (None, 3, 3, 128)         73856     \n",
            "                                                                 \n",
            " flatten (Flatten)           (None, 1152)              0         \n",
            "                                                                 \n",
            " dense (Dense)               (None, 128)               147584    \n",
            "                                                                 \n",
            " dropout_2 (Dropout)         (None, 128)               0         \n",
            "                                                                 \n",
            " dense_1 (Dense)             (None, 10)                1290      \n",
            "                                                                 \n",
            "=================================================================\n",
            "Total params: 241546 (943.54 KB)\n",
            "Trainable params: 241546 (943.54 KB)\n",
            "Non-trainable params: 0 (0.00 Byte)\n",
            "_________________________________________________________________\n"
          ]
        }
      ],
      "source": [
        "model = keras.Sequential([\n",
        "keras.layers.Conv2D(32, (3,3), activation='relu', input_shape=(28,28,1)),\n",
        "keras.layers.MaxPooling2D((2,2)),\n",
        "keras.layers.Dropout(0.25),\n",
        "keras.layers.Conv2D(64, (3,3), activation='relu'),\n",
        "keras.layers.MaxPooling2D((2,2)),\n",
        "keras.layers.Dropout(0.25),\n",
        "keras.layers.Conv2D(128, (3,3), activation='relu'),\n",
        "keras.layers.Flatten(),\n",
        "keras.layers.Dense(128, activation='relu'),\n",
        "keras.layers.Dropout(0.25),\n",
        "keras.layers.Dense(10, activation='softmax')\n",
        "])\n",
        "model.summary()"
      ]
    },
    {
      "cell_type": "code",
      "execution_count": 14,
      "metadata": {
        "colab": {
          "base_uri": "https://localhost:8080/"
        },
        "id": "pwVfw7T6VyuQ",
        "outputId": "3c27ca17-8223-402a-e75a-88e5956e5f99"
      },
      "outputs": [
        {
          "output_type": "stream",
          "name": "stdout",
          "text": [
            "Epoch 1/5\n",
            "1875/1875 [==============================] - 77s 41ms/step - loss: 0.5617 - accuracy: 0.7915 - val_loss: 0.3840 - val_accuracy: 0.8598\n",
            "Epoch 2/5\n",
            "1875/1875 [==============================] - 72s 38ms/step - loss: 0.3667 - accuracy: 0.8640 - val_loss: 0.3319 - val_accuracy: 0.8759\n",
            "Epoch 3/5\n",
            "1875/1875 [==============================] - 74s 40ms/step - loss: 0.3222 - accuracy: 0.8816 - val_loss: 0.2967 - val_accuracy: 0.8900\n",
            "Epoch 4/5\n",
            "1875/1875 [==============================] - 73s 39ms/step - loss: 0.2975 - accuracy: 0.8899 - val_loss: 0.2818 - val_accuracy: 0.8970\n",
            "Epoch 5/5\n",
            "1875/1875 [==============================] - 72s 38ms/step - loss: 0.2780 - accuracy: 0.8972 - val_loss: 0.2652 - val_accuracy: 0.9045\n"
          ]
        }
      ],
      "source": [
        "model.compile(optimizer='adam', loss='sparse_categorical_crossentropy', metrics=['accuracy'])\n",
        "history = model.fit(x_train1, y_train, epochs=5, validation_data=(x_test1, y_test))"
      ]
    },
    {
      "cell_type": "code",
      "execution_count": 15,
      "metadata": {
        "colab": {
          "base_uri": "https://localhost:8080/"
        },
        "id": "ib2WWbliV2o3",
        "outputId": "ffdc6432-ef5f-4c05-edc9-2d89fe8bf096"
      },
      "outputs": [
        {
          "output_type": "stream",
          "name": "stdout",
          "text": [
            "Test loss:  0.2652058005332947\n",
            "Test accuracy: 0.9045000076293945\n"
          ]
        }
      ],
      "source": [
        "test_loss, test_acc = model.evaluate(x_test1, y_test,verbose=0)\n",
        "print('Test loss: ',test_loss)\n",
        "print('Test accuracy:', test_acc)"
      ]
    },
    {
      "cell_type": "code",
      "execution_count": 16,
      "metadata": {
        "colab": {
          "base_uri": "https://localhost:8080/",
          "height": 430
        },
        "id": "cqm-6axwYghV",
        "outputId": "d07fd428-4dd0-49d1-a004-a04201bde20a"
      },
      "outputs": [
        {
          "output_type": "display_data",
          "data": {
            "text/plain": [
              "<Figure size 640x480 with 1 Axes>"
            ],
            "image/png": "[encoded data removed]"
          },
          "metadata": {}
        }
      ],
      "source": [
        "from PIL import Image\n",
        "\n",
        "def preprocess_image(image_path):\n",
        "    img = Image.fromarray(image_path)\n",
        "    img = img.resize((28, 28),resample=Image.LANCZOS)\n",
        "    img = img.convert('L')\n",
        "    plt.imshow(img,cmap='gray')\n",
        "    img = np.array(img) / 255.0\n",
        "    img = img.reshape((1, 28, 28, 1))\n",
        "\n",
        "    return img\n",
        "\n",
        "\n",
        "input_image = preprocess_image(x_train[0])\n"
      ]
    },
    {
      "cell_type": "code",
      "execution_count": 17,
      "metadata": {
        "id": "DBphd8QyTPSD",
        "colab": {
          "base_uri": "https://localhost:8080/"
        },
        "outputId": "d843be87-2ee2-456c-ecf7-cde9ddc76d00"
      },
      "outputs": [
        {
          "output_type": "stream",
          "name": "stdout",
          "text": [
            "[[4.1442831e-06 5.7067646e-06 1.1827302e-06 1.7079370e-05 7.5342728e-06\n",
            "  7.5786753e-05 7.9615056e-06 1.3833044e-01 6.7590037e-05 8.6148262e-01]]\n",
            "The number is: Ankle boot\n"
          ]
        }
      ],
      "source": [
        "item=[\"T-shirt/top\",\"Trouser\",\"Pullover\",\"Dress\",\"Coat\",\"Sandal\",\"Shirt\",\"Sneaker\",\"Bag\",\"Ankle boot\"]\n",
        "prediction = model.predict(input_image,verbose=0)\n",
        "print(prediction)\n",
        "print(\"The number is:\",item[np.argmax(prediction)])"
      ]
    },
    {
      "cell_type": "code",
      "execution_count": 18,
      "metadata": {
        "colab": {
          "base_uri": "https://localhost:8080/",
          "height": 482
        },
        "id": "0SJeiVZEVY0c",
        "outputId": "2ac06f56-c731-49bd-f712-3f40a82dd491"
      },
      "outputs": [
        {
          "output_type": "stream",
          "name": "stdout",
          "text": [
            "[[1.3628270e-04 2.3909588e-09 9.9959058e-01 2.0575825e-07 3.6885835e-05\n",
            "  1.2766259e-09 2.3605188e-04 4.6329385e-13 3.4568004e-08 4.4897324e-12]]\n",
            "The number is: Pullover\n"
          ]
        },
        {
          "output_type": "display_data",
          "data": {
            "text/plain": [
              "<Figure size 640x480 with 1 Axes>"
            ],
            "image/png": "[encoded data removed]"
          },
          "metadata": {}
        }
      ],
      "source": [
        "item=[\"T-shirt/top\",\"Trouser\",\"Pullover\",\"Dress\",\"Coat\",\"Sandal\",\"Shirt\",\"Sneaker\",\"Bag\",\"Ankle boot\"]\n",
        "prediction = model.predict(preprocess_image(x_train[5]),verbose=0)\n",
        "print(prediction)\n",
        "print(\"The number is:\",item[np.argmax(prediction)])"
      ]
    },
    {
      "cell_type": "code",
      "source": [
        "from PIL import Image"
      ],
      "metadata": {
        "id": "zo9f2k9ky_x6"
      },
      "execution_count": 19,
      "outputs": []
    },
    {
      "cell_type": "code",
      "source": [
        "imgpath=\"/content/bag.jpeg\"\n",
        "img=Image.open(imgpath)\n",
        "image=np.array(img)\n",
        "image=preprocess_image(image)\n",
        "item=[\"T-shirt/top\",\"Trouser\",\"Pullover\",\"Dress\",\"Coat\",\"Sandal\",\"Shirt\",\"Sneaker\",\"Bag\",\"Ankle boot\"]\n",
        "prediction = model.predict(image,verbose=0)\n",
        "print(prediction)\n",
        "print(\"The number is:\",item[np.argmax(prediction)])\n"
      ],
      "metadata": {
        "id": "rvnVA-0uoTwg",
        "colab": {
          "base_uri": "https://localhost:8080/",
          "height": 482
        },
        "outputId": "41b1ddc1-ef22-4778-a464-9ea6f5d4533e"
      },
      "execution_count": 20,
      "outputs": [
        {
          "output_type": "stream",
          "name": "stdout",
          "text": [
            "[[5.7655158e-03 1.2456834e-03 3.7634035e-03 5.0751492e-04 9.3304981e-05\n",
            "  5.3765685e-05 5.1157591e-03 9.2996816e-05 9.8323375e-01 1.2837477e-04]]\n",
            "The number is: Bag\n"
          ]
        },
        {
          "output_type": "display_data",
          "data": {
            "text/plain": [
              "<Figure size 640x480 with 1 Axes>"
            ],
            "image/png": "[encoded data removed]"
          },
          "metadata": {}
        }
      ]
    },
    {
      "cell_type": "code",
      "source": [],
      "metadata": {
        "id": "w1WJYNBlzCt8"
      },
      "execution_count": 20,
      "outputs": []
    }
  ],
  "metadata": {
    "colab": {
      "provenance": []
    },
    "kernelspec": {
      "display_name": "Python 3",
      "name": "python3"
    },
    "language_info": {
      "name": "python"
    }
  },
  "nbformat": 4,
  "nbformat_minor": 0
}